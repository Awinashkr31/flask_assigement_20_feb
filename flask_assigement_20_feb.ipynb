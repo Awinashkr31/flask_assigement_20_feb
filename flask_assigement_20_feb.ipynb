{
 "cells": [
  {
   "cell_type": "code",
   "execution_count": 1,
   "id": "4031ae33-8c73-4abf-bc26-5ae98241ac69",
   "metadata": {},
   "outputs": [],
   "source": [
    "#Q1. Explain GET and POST methods."
   ]
  },
  {
   "cell_type": "code",
   "execution_count": 5,
   "id": "58061fd1-7534-4af3-b87b-c6f76b2c28ba",
   "metadata": {},
   "outputs": [
    {
     "data": {
      "text/plain": [
       "' The GET and POST methods are two common HTTP request methods used to send data from a client to a server.\\n\\n1. GET method:\\nThe GET method is used to retrieve data from a server. When a client sends a GET request, it is asking the server to send back a specific resource.\\nThe resource can be a web page, an image, a video, or any other type of file. The GET method is often used when a client wants to retrieve data that \\nis publicly available, such as a web page or an image.\\n\\n2. POST method:\\nThe POST method is used to submit data to the server. When a client sends a POST request, it is asking the server to accept and store the data \\nincluded in the request. The data can be in many different forms, such as form data, JSON, or XML. The POST method is often used when a client wants \\nto submit data to a server, such as when filling out a form or submitting a comment on a web page.\\n'"
      ]
     },
     "execution_count": 5,
     "metadata": {},
     "output_type": "execute_result"
    }
   ],
   "source": [
    "\"\"\" The GET and POST methods are two common HTTP request methods used to send data from a client to a server.\n",
    "\n",
    "1. GET method:\n",
    "The GET method is used to retrieve data from a server. When a client sends a GET request, it is asking the server to send back a specific resource.\n",
    "The resource can be a web page, an image, a video, or any other type of file. The GET method is often used when a client wants to retrieve data that \n",
    "is publicly available, such as a web page or an image.\n",
    "\n",
    "2. POST method:\n",
    "The POST method is used to submit data to the server. When a client sends a POST request, it is asking the server to accept and store the data \n",
    "included in the request. The data can be in many different forms, such as form data, JSON, or XML. The POST method is often used when a client wants \n",
    "to submit data to a server, such as when filling out a form or submitting a comment on a web page.\n",
    "\"\"\""
   ]
  },
  {
   "cell_type": "code",
   "execution_count": 3,
   "id": "a819778e-6b5b-4e6c-a832-11e918dd2576",
   "metadata": {},
   "outputs": [],
   "source": [
    "#Q2. Why is request used in Flask?"
   ]
  },
  {
   "cell_type": "code",
   "execution_count": 4,
   "id": "bd795fba-861b-4ec1-abd9-049be09d2eb3",
   "metadata": {},
   "outputs": [
    {
     "data": {
      "text/plain": [
       "' The request object in Flask is used to handle incoming HTTP requests sent from clients to the Flask application. \\nThe request object contains information about the request, such as the HTTP method used, the URL requested, the headers sent with the request, \\nand any data sent with the request.'"
      ]
     },
     "execution_count": 4,
     "metadata": {},
     "output_type": "execute_result"
    }
   ],
   "source": [
    "\"\"\" The request object in Flask is used to handle incoming HTTP requests sent from clients to the Flask application. \n",
    "The request object contains information about the request, such as the HTTP method used, the URL requested, the headers sent with the request, \n",
    "and any data sent with the request.\n",
    "\n",
    "The request object is an instance of the Request class in Flask. It is created automatically by Flask when a client sends a request to the \n",
    "\n",
    "application, and is available within the context of the request handling function.\n",
    "\"\"\""
   ]
  },
  {
   "cell_type": "code",
   "execution_count": 6,
   "id": "1593d829-2be3-461b-afd1-a1ae409cae52",
   "metadata": {},
   "outputs": [],
   "source": [
    "#Q3. Why is redirect() used in Flask?"
   ]
  },
  {
   "cell_type": "code",
   "execution_count": 7,
   "id": "724ab0b2-2775-42c9-a061-1d0c256187f3",
   "metadata": {},
   "outputs": [
    {
     "data": {
      "text/plain": [
       "' The redirect() function in Flask is used to redirect the user to a different endpoint or URL. It is a useful function for handling \\nscenarios such as authentication, where a user may need to be redirected to a login page if they are not authenticated, or after a successful\\nform submission, where the user may need to be redirected to a \"thank you\" page. '"
      ]
     },
     "execution_count": 7,
     "metadata": {},
     "output_type": "execute_result"
    }
   ],
   "source": [
    "\"\"\" The redirect() function in Flask is used to redirect the user to a different endpoint or URL. It is a useful function for handling \n",
    "scenarios such as authentication, where a user may need to be redirected to a login page if they are not authenticated, or after a successful\n",
    "form submission, where the user may need to be redirected to a \"thank you\" page. \"\"\""
   ]
  },
  {
   "cell_type": "code",
   "execution_count": 8,
   "id": "43b64ac5-ad66-4297-89be-635d76cfdb71",
   "metadata": {},
   "outputs": [],
   "source": [
    "#Q4. What are templates in Flask? Why is the render_template() function used?"
   ]
  },
  {
   "cell_type": "code",
   "execution_count": 9,
   "id": "d8c30c61-50d7-4e9c-bbc8-8c24f02e2e4a",
   "metadata": {},
   "outputs": [
    {
     "data": {
      "text/plain": [
       "' Templates in Flask are files that contain HTML code with placeholders for dynamic content. These placeholders are typically created using \\ntemplate languages like Jinja2, which allows for dynamic content to be inserted into the HTML at runtime. Templates in Flask are used to render\\ndynamic web pages based on data passed to them from the Flask application.\\n\\nThe render_template() function in Flask is used to render a template with the provided context data. The function takes the name of the template \\nfile as its first argument, and any additional keyword arguments represent the data to be passed to the template. The function returns a rendered\\nHTML page with the dynamic content inserted into the appropriate placeholders. '"
      ]
     },
     "execution_count": 9,
     "metadata": {},
     "output_type": "execute_result"
    }
   ],
   "source": [
    "\"\"\" Templates in Flask are files that contain HTML code with placeholders for dynamic content. These placeholders are typically created using \n",
    "template languages like Jinja2, which allows for dynamic content to be inserted into the HTML at runtime. Templates in Flask are used to render\n",
    "dynamic web pages based on data passed to them from the Flask application.\n",
    "\n",
    "The render_template() function in Flask is used to render a template with the provided context data. The function takes the name of the template \n",
    "file as its first argument, and any additional keyword arguments represent the data to be passed to the template. The function returns a rendered\n",
    "HTML page with the dynamic content inserted into the appropriate placeholders. \"\"\""
   ]
  },
  {
   "cell_type": "code",
   "execution_count": 10,
   "id": "bf29e176-aad6-41ac-b84d-d53aa05c21bf",
   "metadata": {},
   "outputs": [],
   "source": [
    "#Q5. Create a simple API. Use Postman to test it. Attach the screenshot of the output in the Jupyter Notebook."
   ]
  },
  {
   "cell_type": "code",
   "execution_count": 11,
   "id": "3bc349b8-764a-4011-ac5d-a82a8e955c0d",
   "metadata": {},
   "outputs": [
    {
     "data": {
      "text/plain": [
       "'\\nfrom flask import Flask, render_template , request , jsonify\\n\\napp = Flask(__name__)\\n\\n\\n@app.route(\\'/\\',methods = [\\'GET\\', \\'POST\\'])\\ndef home_page():\\n    return render_template(\\'index.html\\')\\n\\n@app.route(\\'/math\\' , methods= [\\'POST\\'])\\ndef math_ops():\\n    if(request.method == \\'POST\\'):\\n        ops = request.form[\\'operation\\']\\n        num1 = int(request.form[\\'num1\\'])\\n        num2 = int(request.form[\\'num2\\'])\\n        if ops == \\'add\\':\\n            r = num1+num2\\n            result = \"The sum of \" + str(num1) + \\' and \\' + str(num2) + \" is \" + str(r)\\n        if ops == \\'subtract\\':\\n            r = num1-num2\\n            result = \"The subtract of \" + str(num1) + \\' and \\' + str(num2) + \" is \" + str(r)\\n        if ops == \\'multiply\\':\\n            r = num1*num2\\n            result = \"The multiply of \" + str(num1) + \\' and \\' + str(num2) + \" is \" + str(r)\\n        if ops == \\'divide\\':\\n            r = num1/num2\\n            result = \"The divide of \" + str(num1) + \\' and \\' + str(num2) + \" is \" + str(r)\\n        return render_template(\\'results.html\\' , result =result)\\n\\n\\n@app.route(\\'/postman_action\\' , methods= [\\'POST\\'])\\ndef math_ops1():\\n    if(request.method == \\'POST\\'):\\n        ops = request.json[\\'operation\\']\\n        num1 = int(request.json[\\'num1\\'])\\n        num2 = int(request.json[\\'num2\\'])\\n        if ops == \\'add\\':\\n            r = num1+num2\\n            result = \"The sum of \" + str(num1) + \\' and \\' + str(num2) + \" is \" + str(r)\\n        if ops == \\'subtract\\':\\n            r = num1-num2\\n            result = \"The subtract of \" + str(num1) + \\' and \\' + str(num2) + \" is \" + str(r)\\n        if ops == \\'multiply\\':\\n            r = num1*num2\\n            result = \"The multiply of \" + str(num1) + \\' and \\' + str(num2) + \" is \" + str(r)\\n        if ops == \\'divide\\':\\n            r = num1/num2\\n            result = \"The divide of \" + str(num1) + \\' and \\' + str(num2) + \" is \" + str(r)\\n\\n        return jsonify(result)\\n\\n\\n\\nif __name__==\"__main__\":\\n    app.run(host=\"0.0.0.0\")\\n'"
      ]
     },
     "execution_count": 11,
     "metadata": {},
     "output_type": "execute_result"
    }
   ],
   "source": [
    "\"\"\"\n",
    "from flask import Flask, render_template , request , jsonify\n",
    "\n",
    "app = Flask(__name__)\n",
    "\n",
    "\n",
    "@app.route('/',methods = ['GET', 'POST'])\n",
    "def home_page():\n",
    "    return render_template('index.html')\n",
    "\n",
    "@app.route('/math' , methods= ['POST'])\n",
    "def math_ops():\n",
    "    if(request.method == 'POST'):\n",
    "        ops = request.form['operation']\n",
    "        num1 = int(request.form['num1'])\n",
    "        num2 = int(request.form['num2'])\n",
    "        if ops == 'add':\n",
    "            r = num1+num2\n",
    "            result = \"The sum of \" + str(num1) + ' and ' + str(num2) + \" is \" + str(r)\n",
    "        if ops == 'subtract':\n",
    "            r = num1-num2\n",
    "            result = \"The subtract of \" + str(num1) + ' and ' + str(num2) + \" is \" + str(r)\n",
    "        if ops == 'multiply':\n",
    "            r = num1*num2\n",
    "            result = \"The multiply of \" + str(num1) + ' and ' + str(num2) + \" is \" + str(r)\n",
    "        if ops == 'divide':\n",
    "            r = num1/num2\n",
    "            result = \"The divide of \" + str(num1) + ' and ' + str(num2) + \" is \" + str(r)\n",
    "        return render_template('results.html' , result =result)\n",
    "\n",
    "\n",
    "@app.route('/postman_action' , methods= ['POST'])\n",
    "def math_ops1():\n",
    "    if(request.method == 'POST'):\n",
    "        ops = request.json['operation']\n",
    "        num1 = int(request.json['num1'])\n",
    "        num2 = int(request.json['num2'])\n",
    "        if ops == 'add':\n",
    "            r = num1+num2\n",
    "            result = \"The sum of \" + str(num1) + ' and ' + str(num2) + \" is \" + str(r)\n",
    "        if ops == 'subtract':\n",
    "            r = num1-num2\n",
    "            result = \"The subtract of \" + str(num1) + ' and ' + str(num2) + \" is \" + str(r)\n",
    "        if ops == 'multiply':\n",
    "            r = num1*num2\n",
    "            result = \"The multiply of \" + str(num1) + ' and ' + str(num2) + \" is \" + str(r)\n",
    "        if ops == 'divide':\n",
    "            r = num1/num2\n",
    "            result = \"The divide of \" + str(num1) + ' and ' + str(num2) + \" is \" + str(r)\n",
    "\n",
    "        return jsonify(result)\n",
    "\n",
    "\n",
    "\n",
    "if __name__==\"__main__\":\n",
    "    app.run(host=\"0.0.0.0\")\n",
    "\"\"\""
   ]
  },
  {
   "cell_type": "code",
   "execution_count": null,
   "id": "9f9ef423-182e-4d68-bb8f-de57e8063429",
   "metadata": {},
   "outputs": [],
   "source": []
  }
 ],
 "metadata": {
  "kernelspec": {
   "display_name": "Python 3 (ipykernel)",
   "language": "python",
   "name": "python3"
  },
  "language_info": {
   "codemirror_mode": {
    "name": "ipython",
    "version": 3
   },
   "file_extension": ".py",
   "mimetype": "text/x-python",
   "name": "python",
   "nbconvert_exporter": "python",
   "pygments_lexer": "ipython3",
   "version": "3.10.8"
  }
 },
 "nbformat": 4,
 "nbformat_minor": 5
}
